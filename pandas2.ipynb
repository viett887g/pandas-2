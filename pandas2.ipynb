{
  "nbformat": 4,
  "nbformat_minor": 0,
  "metadata": {
    "colab": {
      "name": "pandas2.ipynb",
      "provenance": [],
      "collapsed_sections": [],
      "authorship_tag": "ABX9TyM3+DslLALf3DhfsfIBqyod",
      "include_colab_link": true
    },
    "kernelspec": {
      "name": "python3",
      "display_name": "Python 3"
    },
    "language_info": {
      "name": "python"
    }
  },
  "cells": [
    {
      "cell_type": "markdown",
      "metadata": {
        "id": "view-in-github",
        "colab_type": "text"
      },
      "source": [
        "<a href=\"https://colab.research.google.com/github/viett887g/pandas-2/blob/main/pandas2.ipynb\" target=\"_parent\"><img src=\"https://colab.research.google.com/assets/colab-badge.svg\" alt=\"Open In Colab\"/></a>"
      ]
    },
    {
      "cell_type": "code",
      "source": [
        "import numpy as np\n",
        "import pandas as pd\n",
        "import random\n"
      ],
      "metadata": {
        "id": "z3W8B7nmocU9"
      },
      "execution_count": 2,
      "outputs": []
    },
    {
      "cell_type": "code",
      "source": [
        "Series 1: có tên là “Họ và tên” và dữ liệu (định tính) do bạn tự nhập vào"
      ],
      "metadata": {
        "id": "Pt6WwKnC9e-T"
      },
      "execution_count": null,
      "outputs": []
    },
    {
      "cell_type": "code",
      "source": [
        "name = pd.Series(input() for i in range(10))"
      ],
      "metadata": {
        "colab": {
          "base_uri": "https://localhost:8080/"
        },
        "id": "C3nrsG6W9AbS",
        "outputId": "37a12c4b-091a-4ba4-b467-68b40b76324b"
      },
      "execution_count": null,
      "outputs": [
        {
          "name": "stdout",
          "output_type": "stream",
          "text": [
            "qw\n",
            "qe\n",
            "qr\n",
            "qt\n",
            "qt\n",
            "qy\n",
            "q\n",
            "qu\n",
            "qi\n",
            "qa\n"
          ]
        }
      ]
    },
    {
      "cell_type": "code",
      "source": [
        "Series 2: có tên là “Ngày sinh” & dữ liệu do bạn tự nhập vào"
      ],
      "metadata": {
        "id": "BBOeDWHy9Z6l"
      },
      "execution_count": null,
      "outputs": []
    },
    {
      "cell_type": "code",
      "source": [
        "daybrith= pd.Series(input() for i in range(10))"
      ],
      "metadata": {
        "colab": {
          "base_uri": "https://localhost:8080/"
        },
        "id": "_Jd_vXEw9iMr",
        "outputId": "a4e326af-e2a3-4e3e-d957-0be4ac54323c"
      },
      "execution_count": null,
      "outputs": [
        {
          "name": "stdout",
          "output_type": "stream",
          "text": [
            "12\n",
            "14\n",
            "15\n",
            "16\n",
            "17\n",
            "11\n",
            "10\n",
            "23\n",
            "24\n",
            "26\n"
          ]
        }
      ]
    },
    {
      "cell_type": "code",
      "source": [
        "Series 3: có tên là “Tiền công/h” có dữ liệu định lượng do bạn tự nhập"
      ],
      "metadata": {
        "id": "Ur_pWlom9zxD"
      },
      "execution_count": null,
      "outputs": []
    },
    {
      "cell_type": "code",
      "source": [
        "h_wage=pd.Series(random.randint(100,1000) for i in range(10))"
      ],
      "metadata": {
        "id": "_A9XvDxL90rV"
      },
      "execution_count": null,
      "outputs": []
    },
    {
      "cell_type": "code",
      "source": [
        "Series 4: có tên là “Số h công” có dữ liệu định lượng do bạn tự nhập"
      ],
      "metadata": {
        "id": "n_QLuuOx_KWl"
      },
      "execution_count": null,
      "outputs": []
    },
    {
      "cell_type": "code",
      "source": [
        "w_hour=pd.Series(random.randint(0,10) for i in range(10))"
      ],
      "metadata": {
        "id": "Glwvfz-7_A-E"
      },
      "execution_count": null,
      "outputs": []
    },
    {
      "cell_type": "code",
      "source": [
        "Tạo 1 dataframe bằng cách ghép các series trên lại với nhau"
      ],
      "metadata": {
        "id": "WqrL9ii3_ge9"
      },
      "execution_count": null,
      "outputs": []
    },
    {
      "cell_type": "code",
      "source": [
        "data={\"Họ và tên\": name ,\"Ngày sinh\": daybrith ,\"Tiền công/h\":h_wage ,\"Số giờ công(h)\": w_hour , \"Thực lĩnh\" : thuclnh}\n",
        "df=pd.DataFrame(data)"
      ],
      "metadata": {
        "id": "3M9V83N9_kws"
      },
      "execution_count": null,
      "outputs": []
    },
    {
      "cell_type": "code",
      "source": [
        "thuclnh=pd.Series()"
      ],
      "metadata": {
        "colab": {
          "base_uri": "https://localhost:8080/"
        },
        "id": "a_H70R7aE_uA",
        "outputId": "5c89c13f-4926-49b5-e07b-0c5af16ddd07"
      },
      "execution_count": null,
      "outputs": [
        {
          "output_type": "stream",
          "name": "stderr",
          "text": [
            "/usr/local/lib/python3.7/dist-packages/ipykernel_launcher.py:1: DeprecationWarning: The default dtype for empty Series will be 'object' instead of 'float64' in a future version. Specify a dtype explicitly to silence this warning.\n",
            "  \"\"\"Entry point for launching an IPython kernel.\n"
          ]
        }
      ]
    },
    {
      "cell_type": "code",
      "source": [
        "thuclnh= w_hour*h_wage"
      ],
      "metadata": {
        "id": "DCdm9GD5Fsn0"
      },
      "execution_count": null,
      "outputs": []
    },
    {
      "cell_type": "code",
      "source": [
        "print(df)"
      ],
      "metadata": {
        "colab": {
          "base_uri": "https://localhost:8080/"
        },
        "id": "R1sTT09TAh5I",
        "outputId": "00cb2163-f086-41af-dab2-b3e3c9176eaa"
      },
      "execution_count": null,
      "outputs": [
        {
          "output_type": "stream",
          "name": "stdout",
          "text": [
            "  Họ và tên Ngày sinh  Tiền công/h  Số giờ công(h)  Thực lĩnh\n",
            "0        qw        12          775               6       4650\n",
            "1        qe        14          808               8       6464\n",
            "2        qr        15          813               8       6504\n",
            "3        qt        16          611               2       1222\n",
            "4        qt        17          749               2       1498\n",
            "5        qy        11          917               6       5502\n",
            "6         q        10          150               5        750\n",
            "7        qu        23          362               2        724\n",
            "8        qi        24          201               6       1206\n",
            "9        qa        26          998               3       2994\n"
          ]
        }
      ]
    },
    {
      "cell_type": "code",
      "source": [
        "câu 2 : Khởi tạo dataframe bằng các phương pháp khác nhau, hãy:"
      ],
      "metadata": {
        "id": "WtWtJk3RGieT"
      },
      "execution_count": null,
      "outputs": []
    },
    {
      "cell_type": "code",
      "source": [
        "Tạo dataframe có kích thước 10x3 từ cấu trúc list tương ứng, với dữ liệu cho dataframe\n",
        "này gồm các cột Họ tên, Tuổi và Giới tính. Xuất kết quả ra màn hình;"
      ],
      "metadata": {
        "id": "z-NGJjjCGlQq"
      },
      "execution_count": null,
      "outputs": []
    },
    {
      "cell_type": "code",
      "source": [
        "hoten=[\"A\", \"B\",\"C\",\"D\",\"E\", \"F\",\"G\",\"H\",\"I\",\"J\"]\n",
        "tuoi=[random.randint(14,20) for i in range(10)]\n",
        "gtinh=[\"Nam\",\"Nam\",\"Nam\",\"Nam\",\"Nam\",\"Nữ\",\"Nữ\",\"Nữ\",\"Nữ\",\"Nữ\"]\n"
      ],
      "metadata": {
        "id": "YMqPL0DeFYhv"
      },
      "execution_count": 29,
      "outputs": []
    },
    {
      "cell_type": "code",
      "source": [
        "data=[ho_ten,tuoi,gtinh]\n",
        "df=pd.DataFrame(data ,index=[\"Họ và tên\",\"Tuổi\",\"Giới tính\"])\n",
        "print(df)"
      ],
      "metadata": {
        "colab": {
          "base_uri": "https://localhost:8080/"
        },
        "id": "LWs3wk8vF6x3",
        "outputId": "857cbf1f-21fd-4d82-f376-bf78b63db710"
      },
      "execution_count": 30,
      "outputs": [
        {
          "output_type": "stream",
          "name": "stdout",
          "text": [
            "             0    1    2    3    4   5   6   7   8   9\n",
            "Họ và tên    A    B    C    D    E   F   G   H   I   J\n",
            "Tuổi        20   19   17   17   19  17  18  14  18  16\n",
            "Giới tính  Nam  Nam  Nam  Nam  Nam  Nữ  Nữ  Nữ  Nữ  Nữ\n"
          ]
        }
      ]
    },
    {
      "cell_type": "code",
      "source": [
        "Tạo dataframe như trên nhưng từ cấu trúc Dictionary có chứa các List giá trị tương ứng\n",
        "với key. Xuất kết quả ra màn hình;"
      ],
      "metadata": {
        "id": "4Deer1VEFU4v"
      },
      "execution_count": null,
      "outputs": []
    },
    {
      "cell_type": "code",
      "source": [
        "name1= pd.Series(input() for i in range(10))"
      ],
      "metadata": {
        "colab": {
          "base_uri": "https://localhost:8080/"
        },
        "id": "GNOj1kYlDRlm",
        "outputId": "4f81e291-16d9-47d6-8cf3-6d722c4778ec"
      },
      "execution_count": 37,
      "outputs": [
        {
          "name": "stdout",
          "output_type": "stream",
          "text": [
            "a\n",
            "b\n",
            "c\n",
            "d\n",
            "e\n",
            "f\n",
            "g\n",
            "h\n",
            "j\n",
            "k\n"
          ]
        }
      ]
    },
    {
      "cell_type": "code",
      "source": [
        "age= pd.Series(input() for i in range(10))"
      ],
      "metadata": {
        "colab": {
          "base_uri": "https://localhost:8080/"
        },
        "id": "O9IGA_WwDvX4",
        "outputId": "4986e868-3ec4-42fd-cf3e-371413ee362d"
      },
      "execution_count": 5,
      "outputs": [
        {
          "name": "stdout",
          "output_type": "stream",
          "text": [
            "12\n",
            "14\n",
            "51\n",
            "6\n",
            "16\n",
            "14\n",
            "15\n",
            "15\n",
            "16\n",
            "17\n"
          ]
        }
      ]
    },
    {
      "cell_type": "code",
      "source": [
        "sex= pd.Series(input() for i in range(10))"
      ],
      "metadata": {
        "colab": {
          "base_uri": "https://localhost:8080/"
        },
        "id": "sGuvzP5ND47b",
        "outputId": "3cf0e69c-6d46-4207-a582-5fb558d774e7"
      },
      "execution_count": 32,
      "outputs": [
        {
          "name": "stdout",
          "output_type": "stream",
          "text": [
            "m\n",
            "m\n",
            "m\n",
            "m\n",
            "l\n",
            "l\n",
            "l\n",
            "m\n",
            "l\n",
            "m\n"
          ]
        }
      ]
    },
    {
      "cell_type": "code",
      "source": [
        "seri = {\"Họ và tên \": name1, \"tuổi\" : age , \"giới tính \": sex}\n",
        "seri1 = pd.DataFrame(seri)\n",
        "print(seri1)"
      ],
      "metadata": {
        "colab": {
          "base_uri": "https://localhost:8080/"
        },
        "id": "pc6LN8CDEIl8",
        "outputId": "bedbfdd1-85f1-4963-c5c6-15aedfbddc72"
      },
      "execution_count": 38,
      "outputs": [
        {
          "output_type": "stream",
          "name": "stdout",
          "text": [
            "  Họ và tên  tuổi giới tính \n",
            "0          a   12          m\n",
            "1          b   14          m\n",
            "2          c   51          m\n",
            "3          d    6          m\n",
            "4          e   16          l\n",
            "5          f   14          l\n",
            "6          g   15          l\n",
            "7          h   15          m\n",
            "8          j   16          l\n",
            "9          k   17          m\n"
          ]
        }
      ]
    },
    {
      "cell_type": "code",
      "source": [
        "Tạo dataframe như trên nhưng từ cấu trúc List của các dictionary. Xuất kết quả ra màn\n",
        "hình;"
      ],
      "metadata": {
        "id": "9E4zjZvOE11b"
      },
      "execution_count": null,
      "outputs": []
    },
    {
      "cell_type": "code",
      "source": [
        "#dictionary \n",
        "lis =[{\"Họ và tên \": name1} , {\"tuổi\" : age } , {\"giới tính \": sex}]\n",
        "df=  pd.DataFrame(lis)\n",
        "print(df)"
      ],
      "metadata": {
        "colab": {
          "base_uri": "https://localhost:8080/"
        },
        "id": "6L3fgmQIE2fi",
        "outputId": "72262d9c-adc2-4f04-fb0f-11ef845cb031"
      },
      "execution_count": 40,
      "outputs": [
        {
          "output_type": "stream",
          "name": "stdout",
          "text": [
            "                                          Họ và tên   \\\n",
            "0  0    a\n",
            "1    b\n",
            "2    c\n",
            "3    d\n",
            "4    e\n",
            "5    f\n",
            "6   ...   \n",
            "1                                                NaN   \n",
            "2                                                NaN   \n",
            "\n",
            "                                                tuổi  \\\n",
            "0                                                NaN   \n",
            "1  0    12\n",
            "1    14\n",
            "2    51\n",
            "3     6\n",
            "4    16\n",
            "5    1...   \n",
            "2                                                NaN   \n",
            "\n",
            "                                          giới tính   \n",
            "0                                                NaN  \n",
            "1                                                NaN  \n",
            "2  0    m\n",
            "1    m\n",
            "2    m\n",
            "3    m\n",
            "4    l\n",
            "5    l\n",
            "6   ...  \n"
          ]
        }
      ]
    },
    {
      "cell_type": "code",
      "source": [
        "Tạo 3 list (1x10) tương ứng với Họ tên, Tuổi và Giới tính. Sử dụng hàm zip() để tạo\n",
        "dataframe từ 3 list riêng biệt này. Xuất kết quả ra màn hình."
      ],
      "metadata": {
        "id": "q4Yfo2ocKo0P"
      },
      "execution_count": null,
      "outputs": []
    },
    {
      "cell_type": "code",
      "source": [
        "data2= zip(name1, age, sex)\n",
        "dff=pd.DataFrame(data2, columns=[\"Họ và tên\",\"Tuổi\",\"Giới Tính\"])\n",
        "print(dff)"
      ],
      "metadata": {
        "colab": {
          "base_uri": "https://localhost:8080/"
        },
        "id": "gsbWE8L8LMxo",
        "outputId": "57376e38-f054-403d-83a8-02a912ef95d9"
      },
      "execution_count": 47,
      "outputs": [
        {
          "output_type": "stream",
          "name": "stdout",
          "text": [
            "  Họ và tên Tuổi Giới Tính\n",
            "0         a   12         m\n",
            "1         b   14         m\n",
            "2         c   51         m\n",
            "3         d    6         m\n",
            "4         e   16         l\n",
            "5         f   14         l\n",
            "6         g   15         l\n",
            "7         h   15         m\n",
            "8         j   16         l\n",
            "9         k   17         m\n"
          ]
        }
      ]
    }
  ]
}